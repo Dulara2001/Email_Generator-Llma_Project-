{
 "cells": [
  {
   "cell_type": "code",
   "execution_count": 1,
   "id": "75826378",
   "metadata": {},
   "outputs": [
    {
     "name": "stdout",
     "output_type": "stream",
     "text": [
      "Collecting langchain-groq\n",
      "  Downloading langchain_groq-0.2.3-py3-none-any.whl (14 kB)\n",
      "Collecting groq<1,>=0.4.1\n",
      "  Downloading groq-0.15.0-py3-none-any.whl (109 kB)\n",
      "     ------------------------------------ 109.6/109.6 kB 275.9 kB/s eta 0:00:00\n",
      "Requirement already satisfied: langchain-core<0.4.0,>=0.3.29 in d:\\softwares\\anaconda\\lib\\site-packages (from langchain-groq) (0.3.29)\n",
      "Requirement already satisfied: anyio<5,>=3.5.0 in d:\\softwares\\anaconda\\lib\\site-packages (from groq<1,>=0.4.1->langchain-groq) (3.5.0)\n",
      "Requirement already satisfied: distro<2,>=1.7.0 in d:\\softwares\\anaconda\\lib\\site-packages (from groq<1,>=0.4.1->langchain-groq) (1.9.0)\n",
      "Requirement already satisfied: httpx<1,>=0.23.0 in d:\\softwares\\anaconda\\lib\\site-packages (from groq<1,>=0.4.1->langchain-groq) (0.28.1)\n",
      "Requirement already satisfied: typing-extensions<5,>=4.10 in d:\\softwares\\anaconda\\lib\\site-packages (from groq<1,>=0.4.1->langchain-groq) (4.12.2)\n",
      "Requirement already satisfied: sniffio in d:\\softwares\\anaconda\\lib\\site-packages (from groq<1,>=0.4.1->langchain-groq) (1.2.0)\n",
      "Requirement already satisfied: pydantic<3,>=1.9.0 in d:\\softwares\\anaconda\\lib\\site-packages (from groq<1,>=0.4.1->langchain-groq) (2.9.2)\n",
      "Requirement already satisfied: PyYAML>=5.3 in d:\\softwares\\anaconda\\lib\\site-packages (from langchain-core<0.4.0,>=0.3.29->langchain-groq) (6.0)\n",
      "Requirement already satisfied: langsmith<0.3,>=0.1.125 in d:\\softwares\\anaconda\\lib\\site-packages (from langchain-core<0.4.0,>=0.3.29->langchain-groq) (0.2.10)\n",
      "Requirement already satisfied: tenacity!=8.4.0,<10.0.0,>=8.1.0 in d:\\softwares\\anaconda\\lib\\site-packages (from langchain-core<0.4.0,>=0.3.29->langchain-groq) (8.2.3)\n",
      "Requirement already satisfied: packaging<25,>=23.2 in d:\\softwares\\anaconda\\lib\\site-packages (from langchain-core<0.4.0,>=0.3.29->langchain-groq) (24.2)\n",
      "Requirement already satisfied: jsonpatch<2.0,>=1.33 in d:\\softwares\\anaconda\\lib\\site-packages (from langchain-core<0.4.0,>=0.3.29->langchain-groq) (1.33)\n",
      "Requirement already satisfied: idna>=2.8 in d:\\softwares\\anaconda\\lib\\site-packages (from anyio<5,>=3.5.0->groq<1,>=0.4.1->langchain-groq) (3.3)\n",
      "Requirement already satisfied: httpcore==1.* in d:\\softwares\\anaconda\\lib\\site-packages (from httpx<1,>=0.23.0->groq<1,>=0.4.1->langchain-groq) (1.0.7)\n",
      "Requirement already satisfied: certifi in d:\\softwares\\anaconda\\lib\\site-packages (from httpx<1,>=0.23.0->groq<1,>=0.4.1->langchain-groq) (2022.9.14)\n",
      "Requirement already satisfied: h11<0.15,>=0.13 in d:\\softwares\\anaconda\\lib\\site-packages (from httpcore==1.*->httpx<1,>=0.23.0->groq<1,>=0.4.1->langchain-groq) (0.14.0)\n",
      "Requirement already satisfied: jsonpointer>=1.9 in d:\\softwares\\anaconda\\lib\\site-packages (from jsonpatch<2.0,>=1.33->langchain-core<0.4.0,>=0.3.29->langchain-groq) (3.0.0)\n",
      "Requirement already satisfied: requests-toolbelt<2.0.0,>=1.0.0 in d:\\softwares\\anaconda\\lib\\site-packages (from langsmith<0.3,>=0.1.125->langchain-core<0.4.0,>=0.3.29->langchain-groq) (1.0.0)\n",
      "Requirement already satisfied: orjson<4.0.0,>=3.9.14 in d:\\softwares\\anaconda\\lib\\site-packages (from langsmith<0.3,>=0.1.125->langchain-core<0.4.0,>=0.3.29->langchain-groq) (3.10.14)\n",
      "Requirement already satisfied: requests<3,>=2 in d:\\softwares\\anaconda\\lib\\site-packages (from langsmith<0.3,>=0.1.125->langchain-core<0.4.0,>=0.3.29->langchain-groq) (2.28.1)\n",
      "Requirement already satisfied: pydantic-core==2.23.4 in d:\\softwares\\anaconda\\lib\\site-packages (from pydantic<3,>=1.9.0->groq<1,>=0.4.1->langchain-groq) (2.23.4)\n",
      "Requirement already satisfied: annotated-types>=0.6.0 in d:\\softwares\\anaconda\\lib\\site-packages (from pydantic<3,>=1.9.0->groq<1,>=0.4.1->langchain-groq) (0.7.0)\n",
      "Requirement already satisfied: charset-normalizer<3,>=2 in d:\\softwares\\anaconda\\lib\\site-packages (from requests<3,>=2->langsmith<0.3,>=0.1.125->langchain-core<0.4.0,>=0.3.29->langchain-groq) (2.0.4)\n",
      "Requirement already satisfied: urllib3<1.27,>=1.21.1 in d:\\softwares\\anaconda\\lib\\site-packages (from requests<3,>=2->langsmith<0.3,>=0.1.125->langchain-core<0.4.0,>=0.3.29->langchain-groq) (1.26.11)\n",
      "Installing collected packages: groq, langchain-groq\n",
      "Successfully installed groq-0.15.0 langchain-groq-0.2.3\n",
      "Note: you may need to restart the kernel to use updated packages.\n"
     ]
    }
   ],
   "source": [
    "pip install langchain-groq"
   ]
  },
  {
   "cell_type": "code",
   "execution_count": 3,
   "id": "ce7e2d1c",
   "metadata": {},
   "outputs": [
    {
     "name": "stdout",
     "output_type": "stream",
     "text": [
      "The first person to land on the moon was Neil Armstrong. He stepped out of the lunar module Eagle and onto the moon's surface on July 20, 1969, during the Apollo 11 mission. Armstrong famously declared, \"That's one small step for man, one giant leap for mankind,\" as he became the first human to set foot on the moon.\n"
     ]
    }
   ],
   "source": [
    "from langchain_groq import ChatGroq\n",
    "\n",
    "llm = ChatGroq(\n",
    "    temperature=0, \n",
    "    groq_api_key='<your_key>', \n",
    "    model_name=\"llama-3.1-70b-versatile\"\n",
    ")\n",
    "\n",
    "response = llm.invoke(\"The first person to land on moon was ...\")\n",
    "print(response.content)"
   ]
  },
  {
   "cell_type": "code",
   "execution_count": null,
   "id": "aa8de48b",
   "metadata": {},
   "outputs": [],
   "source": []
  }
 ],
 "metadata": {
  "kernelspec": {
   "display_name": "Python 3 (ipykernel)",
   "language": "python",
   "name": "python3"
  },
  "language_info": {
   "codemirror_mode": {
    "name": "ipython",
    "version": 3
   },
   "file_extension": ".py",
   "mimetype": "text/x-python",
   "name": "python",
   "nbconvert_exporter": "python",
   "pygments_lexer": "ipython3",
   "version": "3.9.13"
  }
 },
 "nbformat": 4,
 "nbformat_minor": 5
}
